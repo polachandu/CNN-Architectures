{
 "cells": [
  {
   "cell_type": "code",
   "execution_count": 1,
   "id": "b4496b78",
   "metadata": {
    "execution": {
     "iopub.execute_input": "2025-03-04T02:19:29.574858Z",
     "iopub.status.busy": "2025-03-04T02:19:29.574356Z",
     "iopub.status.idle": "2025-03-04T02:19:48.154114Z",
     "shell.execute_reply": "2025-03-04T02:19:48.153071Z"
    },
    "papermill": {
     "duration": 18.586917,
     "end_time": "2025-03-04T02:19:48.156324",
     "exception": false,
     "start_time": "2025-03-04T02:19:29.569407",
     "status": "completed"
    },
    "tags": []
   },
   "outputs": [],
   "source": [
    "from keras.applications.vgg16 import decode_predictions\n",
    "from keras.applications.vgg16 import preprocess_input\n",
    "from keras.preprocessing import image\n",
    "import matplotlib.pyplot as plt \n",
    "from PIL import Image \n",
    "import seaborn as sns\n",
    "import pandas as pd \n",
    "import numpy as np \n",
    "import os \n",
    "import shutil"
   ]
  },
  {
   "cell_type": "code",
   "execution_count": 2,
   "id": "e59f2e50",
   "metadata": {
    "execution": {
     "iopub.execute_input": "2025-03-04T02:19:48.163578Z",
     "iopub.status.busy": "2025-03-04T02:19:48.162945Z",
     "iopub.status.idle": "2025-03-04T02:20:00.165642Z",
     "shell.execute_reply": "2025-03-04T02:20:00.164726Z"
    },
    "papermill": {
     "duration": 12.008088,
     "end_time": "2025-03-04T02:20:00.167639",
     "exception": false,
     "start_time": "2025-03-04T02:19:48.159551",
     "status": "completed"
    },
    "tags": []
   },
   "outputs": [],
   "source": [
    "zip_path = \"/kaggle/input/dogs-vs-cats-redux-kernels-edition/train.zip\"\n",
    "extract_path = \"/kaggle/working/\"\n",
    "\n",
    "shutil.unpack_archive(zip_path, extract_path)"
   ]
  },
  {
   "cell_type": "code",
   "execution_count": 3,
   "id": "65d7de2f",
   "metadata": {
    "execution": {
     "iopub.execute_input": "2025-03-04T02:20:00.173693Z",
     "iopub.status.busy": "2025-03-04T02:20:00.173329Z",
     "iopub.status.idle": "2025-03-04T02:20:06.014325Z",
     "shell.execute_reply": "2025-03-04T02:20:06.013279Z"
    },
    "papermill": {
     "duration": 5.846018,
     "end_time": "2025-03-04T02:20:06.016255",
     "exception": false,
     "start_time": "2025-03-04T02:20:00.170237",
     "status": "completed"
    },
    "tags": []
   },
   "outputs": [],
   "source": [
    "zip_path = \"/kaggle/input/dogs-vs-cats-redux-kernels-edition/test.zip\"\n",
    "extract_path = \"/kaggle/working/\"\n",
    "\n",
    "shutil.unpack_archive(zip_path, extract_path)"
   ]
  },
  {
   "cell_type": "code",
   "execution_count": 4,
   "id": "aea7b66a",
   "metadata": {
    "execution": {
     "iopub.execute_input": "2025-03-04T02:20:06.022371Z",
     "iopub.status.busy": "2025-03-04T02:20:06.022025Z",
     "iopub.status.idle": "2025-03-04T02:20:06.026287Z",
     "shell.execute_reply": "2025-03-04T02:20:06.025268Z"
    },
    "papermill": {
     "duration": 0.009117,
     "end_time": "2025-03-04T02:20:06.028055",
     "exception": false,
     "start_time": "2025-03-04T02:20:06.018938",
     "status": "completed"
    },
    "tags": []
   },
   "outputs": [],
   "source": [
    "img1 = \"/kaggle/working/train/cat.11679.jpg\"\n",
    "img2 = \"/kaggle/working/train/dog.2811.jpg\"\n",
    "img3 = \"/kaggle/input/flowers-recognition/flowers/sunflower/1008566138_6927679c8a.jpg\"\n",
    "img4 = \"/kaggle/input/fruits/fruits-360_dataset_100x100/fruits-360/Training/Banana 1/0_100.jpg\"\n",
    "imgs = [img1, img2, img3, img4]"
   ]
  },
  {
   "cell_type": "code",
   "execution_count": 5,
   "id": "b91aa1f0",
   "metadata": {
    "execution": {
     "iopub.execute_input": "2025-03-04T02:20:06.033664Z",
     "iopub.status.busy": "2025-03-04T02:20:06.033290Z",
     "iopub.status.idle": "2025-03-04T02:20:06.039053Z",
     "shell.execute_reply": "2025-03-04T02:20:06.037594Z"
    },
    "papermill": {
     "duration": 0.010129,
     "end_time": "2025-03-04T02:20:06.040611",
     "exception": false,
     "start_time": "2025-03-04T02:20:06.030482",
     "status": "completed"
    },
    "tags": []
   },
   "outputs": [],
   "source": [
    "def load_image(img_path):\n",
    "    img = image.load_img(img_path, target_size=(224, 224))\n",
    "    img = image.img_to_array(img)\n",
    "    img = np.expand_dims(img, axis=0)\n",
    "    img = preprocess_input(img)\n",
    "    return img "
   ]
  },
  {
   "cell_type": "code",
   "execution_count": 6,
   "id": "5babfee4",
   "metadata": {
    "execution": {
     "iopub.execute_input": "2025-03-04T02:20:06.046289Z",
     "iopub.status.busy": "2025-03-04T02:20:06.046000Z",
     "iopub.status.idle": "2025-03-04T02:20:06.051979Z",
     "shell.execute_reply": "2025-03-04T02:20:06.051078Z"
    },
    "papermill": {
     "duration": 0.010527,
     "end_time": "2025-03-04T02:20:06.053587",
     "exception": false,
     "start_time": "2025-03-04T02:20:06.043060",
     "status": "completed"
    },
    "tags": []
   },
   "outputs": [],
   "source": [
    "def get_predictions(model):\n",
    "    f, ax = plt.subplots(1, 4)\n",
    "    f.set_size_inches(80, 40)\n",
    "    for i in range(4):\n",
    "        ax[i].imshow(Image.open(imgs[i]).resize((200, 200), Image.ANTIALIAS))\n",
    "    plt.show()\n",
    "    \n",
    "    f, axes = plt.subplots(1, 4)\n",
    "    f.set_size_inches(80, 20)\n",
    "    for i,img_path in enumerate(imgs):\n",
    "        img = load_image(img_path)\n",
    "        preds  = decode_predictions(model.predict(img), top=3)[0]\n",
    "        b = sns.barplot(y=[c[1] for c in preds], x=[c[2] for c in preds], color=\"gray\", ax=axes[i])\n",
    "        b.tick_params(labelsize=55)\n",
    "        f.tight_layout()"
   ]
  },
  {
   "cell_type": "code",
   "execution_count": null,
   "id": "bec57e3e",
   "metadata": {
    "papermill": {
     "duration": 0.001994,
     "end_time": "2025-03-04T02:20:06.058008",
     "exception": false,
     "start_time": "2025-03-04T02:20:06.056014",
     "status": "completed"
    },
    "tags": []
   },
   "outputs": [],
   "source": []
  }
 ],
 "metadata": {
  "kaggle": {
   "accelerator": "none",
   "dataSources": [
    {
     "databundleVersionId": 38425,
     "isSourceIdPinned": false,
     "sourceId": 5441,
     "sourceType": "competition"
    },
    {
     "datasetId": 5857,
     "sourceId": 9104286,
     "sourceType": "datasetVersion"
    },
    {
     "datasetId": 8782,
     "sourceId": 2431805,
     "sourceType": "datasetVersion"
    }
   ],
   "dockerImageVersionId": 30918,
   "isGpuEnabled": false,
   "isInternetEnabled": false,
   "language": "python",
   "sourceType": "notebook"
  },
  "kernelspec": {
   "display_name": "Python 3",
   "language": "python",
   "name": "python3"
  },
  "language_info": {
   "codemirror_mode": {
    "name": "ipython",
    "version": 3
   },
   "file_extension": ".py",
   "mimetype": "text/x-python",
   "name": "python",
   "nbconvert_exporter": "python",
   "pygments_lexer": "ipython3",
   "version": "3.10.12"
  },
  "papermill": {
   "default_parameters": {},
   "duration": 41.046572,
   "end_time": "2025-03-04T02:20:07.684689",
   "environment_variables": {},
   "exception": null,
   "input_path": "__notebook__.ipynb",
   "output_path": "__notebook__.ipynb",
   "parameters": {},
   "start_time": "2025-03-04T02:19:26.638117",
   "version": "2.6.0"
  }
 },
 "nbformat": 4,
 "nbformat_minor": 5
}
